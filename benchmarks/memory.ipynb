{
 "cells": [
  {
   "cell_type": "code",
   "execution_count": 15,
   "metadata": {},
   "outputs": [],
   "source": [
    "import pytest\n",
    "import uuid\n",
    "from typing import Generator, Union\n",
    "from fnmatch import fnmatch\n",
    "\n",
    "import networkx as nx\n",
    "import matplotlib.pyplot as plt\n",
    "\n",
    "from py_abac.storage.base import StorageBase\n",
    "from py_abac import Policy\n",
    "from py_abac.exceptions import PolicyExistsError"
   ]
  },
  {
   "cell_type": "markdown",
   "metadata": {},
   "source": [
    "## In-Memory Storage"
   ]
  },
  {
   "cell_type": "code",
   "execution_count": 21,
   "metadata": {},
   "outputs": [],
   "source": [
    "class InMemoryStorage(StorageBase):\n",
    "    \n",
    "    START_NODE = (\"*\", \"*\", \"*\")\n",
    "    \n",
    "    def __init__(self):\n",
    "        self._index_map = {}\n",
    "        self._targets_map = {\n",
    "            self.START_NODE: []\n",
    "        }\n",
    "        self._targets_graph = nx.DiGraph()\n",
    "        self._targets_graph.add_node(self.START_NODE)\n",
    "        \n",
    "    def add(self, policy: Policy):\n",
    "        \"\"\"\n",
    "            Store a policy\n",
    "        \"\"\"\n",
    "        target_ids = (\n",
    "            policy.targets.subject_id,\n",
    "            policy.targets.resource_id,\n",
    "            policy.targets.action_id\n",
    "        )\n",
    "        \n",
    "        # Add policy to index map\n",
    "        if policy.uid in self._index_map:\n",
    "            raise PolicyExistsError(policy.uid)\n",
    "        self._index_map[policy.uid] = policy\n",
    "        \n",
    "        # Add policy UID to targets map\n",
    "        if target_ids in self._targets_map:\n",
    "            self._targets_map[target_ids].append(policy.uid)\n",
    "        else:\n",
    "            self._targets_map[target_ids] = [policy.uid]\n",
    "            \n",
    "        # TODO: Add target IDs to graph\n",
    "\n",
    "    def get(self, uid: str) -> Union[None, Policy]:\n",
    "        \"\"\"\n",
    "            Get specific policy\n",
    "        \"\"\"\n",
    "        return self._index_map.get(uid, None)\n",
    "\n",
    "    def get_all(self, limit: int, offset: int) -> Generator[Policy, None, None]:\n",
    "        \"\"\"\n",
    "            Retrieve all the policies within a window\n",
    "        \"\"\"\n",
    "        # Note: python by default sorts dict by key\n",
    "        keys = self._index_map.keys()[offset:offset+limit]\n",
    "        for key in keys:\n",
    "            yield self._index_map[key]\n",
    "\n",
    "    def get_for_target(\n",
    "            self,\n",
    "            subject_id: str,\n",
    "            resource_id: str,\n",
    "            action_id: str\n",
    "    ) -> Generator[Policy, None, None]:\n",
    "        \"\"\"\n",
    "            Get all policies for given target IDs.\n",
    "        \"\"\"\n",
    "        # TODO: Get target IDs to check from graph for quicker lookup\n",
    "        for target_ids in self._targets_map:\n",
    "            match = all(\n",
    "                fnmatch(target_ids[0], subject_id),\n",
    "                fnmatch(target_ids[1], resource_id),\n",
    "                fnmatch(target_ids[2], action_id),\n",
    "            )\n",
    "            if match:\n",
    "                for policy in self._targets_map[target_ids]:\n",
    "                    yield policy\n",
    "\n",
    "    def update(self, policy: Policy):\n",
    "        \"\"\"\n",
    "            Update a policy\n",
    "        \"\"\"\n",
    "        if policy.uid not in self._index_map:\n",
    "            raise ValueError(\"Policy with UID='{}' does not exist.\".format(policy.uid))\n",
    "        self._index_map[policy.uid] = policy\n",
    "\n",
    "    def delete(self, uid: str):\n",
    "        \"\"\"\n",
    "            Delete a policy\n",
    "        \"\"\"\n",
    "        if uid not in self._index_map:\n",
    "            raise ValueError(\"Policy with UID='{}' does not exist.\".format(uid))\n",
    "        \n",
    "        # Remove policy UID from targets map\n",
    "        policy = self._index_map[uid]\n",
    "        target_ids = (\n",
    "            policy.targets.subject_id,\n",
    "            policy.targets.resource_id,\n",
    "            policy.targets.action_id\n",
    "        )\n",
    "        self._targets_map[target_ids].remove(uid)\n",
    "        # TODO: Remove target IDs index if collection of polcies is empty\n",
    "        \n",
    "        # Remove policy from index map\n",
    "        del self._index_map[uid]\n"
   ]
  },
  {
   "cell_type": "markdown",
   "metadata": {},
   "source": [
    "## Tests"
   ]
  },
  {
   "cell_type": "code",
   "execution_count": 12,
   "metadata": {},
   "outputs": [
    {
     "data": {
      "image/png": "[encoded data removed]",
      "text/plain": [
       "<Figure size 432x288 with 1 Axes>"
      ]
     },
     "metadata": {},
     "output_type": "display_data"
    }
   ],
   "source": [
    "storage = InMemoryStorage()\n",
    "nx.draw(storage._targets_graph)\n",
    "plt.show()"
   ]
  },
  {
   "cell_type": "code",
   "execution_count": 5,
   "metadata": {},
   "outputs": [],
   "source": [
    "@pytest.mark.parametrize(\"request_json, num\", [\n",
    "    ({\n",
    "         \"subject\": {\"id\": \"a\"},\n",
    "         \"resource\": {\"id\": str(uuid.uuid4())},\n",
    "         \"action\": {\"id\": str(uuid.uuid4())}\n",
    "     }, 1),\n",
    "    ({\n",
    "         \"subject\": {\"id\": \"ab\"},\n",
    "         \"resource\": {\"id\": str(uuid.uuid4())},\n",
    "         \"action\": {\"id\": str(uuid.uuid4())}\n",
    "     }, 3),\n",
    "    ({\n",
    "         \"subject\": {\"id\": \"abc\"},\n",
    "         \"resource\": {\"id\": str(uuid.uuid4())},\n",
    "         \"action\": {\"id\": str(uuid.uuid4())}\n",
    "     }, 3),\n",
    "    ({\n",
    "         \"subject\": {\"id\": \"acb\"},\n",
    "         \"resource\": {\"id\": str(uuid.uuid4())},\n",
    "         \"action\": {\"id\": str(uuid.uuid4())}\n",
    "     }, 2),\n",
    "    ({\n",
    "         \"subject\": {\"id\": \"axc\"},\n",
    "         \"resource\": {\"id\": str(uuid.uuid4())},\n",
    "         \"action\": {\"id\": str(uuid.uuid4())}\n",
    "     }, 1),\n",
    "])\n",
    "def test_find_for_target(st, request_json, num):\n",
    "    st.add(Policy.from_json({\"uid\": \"1\",\n",
    "                             \"rules\": {},\n",
    "                             \"targets\": {},\n",
    "                             \"effect\": \"deny\"}))\n",
    "    st.add(Policy.from_json({\"uid\": \"2\",\n",
    "                             \"rules\": {},\n",
    "                             \"targets\": {\"subject_id\": \"ab*\"},\n",
    "                             \"effect\": \"deny\"}))\n",
    "    st.add(Policy.from_json({\"uid\": \"3\",\n",
    "                             \"rules\": {},\n",
    "                             \"targets\": {\"subject_id\": \"a*b\"},\n",
    "                             \"effect\": \"deny\"}))\n",
    "    st.add(Policy.from_json({\"uid\": \"4\",\n",
    "                             \"rules\": {},\n",
    "                             \"targets\": {\"subject_id\": \"ab*c\"},\n",
    "                             \"effect\": \"deny\"}))\n",
    "\n",
    "    request = AccessRequest.from_json(request_json)\n",
    "    found = st.get_for_target(request._subject_id, request._resource_id, request._action_id)\n",
    "    found = list(found)\n",
    "    assert num == len(found)"
   ]
  },
  {
   "cell_type": "code",
   "execution_count": 17,
   "metadata": {},
   "outputs": [],
   "source": [
    "a = [\"1\", \"d\"]"
   ]
  },
  {
   "cell_type": "code",
   "execution_count": 18,
   "metadata": {},
   "outputs": [],
   "source": [
    "a.remove(\"d\")"
   ]
  },
  {
   "cell_type": "code",
   "execution_count": 19,
   "metadata": {},
   "outputs": [
    {
     "data": {
      "text/plain": [
       "['1']"
      ]
     },
     "execution_count": 19,
     "metadata": {},
     "output_type": "execute_result"
    }
   ],
   "source": [
    "a"
   ]
  },
  {
   "cell_type": "code",
   "execution_count": 20,
   "metadata": {},
   "outputs": [
    {
     "ename": "ValueError",
     "evalue": "list.remove(x): x not in list",
     "output_type": "error",
     "traceback": [
      "\u001b[0;31m---------------------------------------------------------------------------\u001b[0m",
      "\u001b[0;31mValueError\u001b[0m                                Traceback (most recent call last)",
      "\u001b[0;32m<ipython-input-20-d97d1201ffbf>\u001b[0m in \u001b[0;36m<module>\u001b[0;34m\u001b[0m\n\u001b[0;32m----> 1\u001b[0;31m \u001b[0ma\u001b[0m\u001b[0;34m.\u001b[0m\u001b[0mremove\u001b[0m\u001b[0;34m(\u001b[0m\u001b[0;34m\"c\"\u001b[0m\u001b[0;34m)\u001b[0m\u001b[0;34m\u001b[0m\u001b[0;34m\u001b[0m\u001b[0m\n\u001b[0m",
      "\u001b[0;31mValueError\u001b[0m: list.remove(x): x not in list"
     ]
    }
   ],
   "source": [
    "a.remove(\"c\")"
   ]
  },
  {
   "cell_type": "code",
   "execution_count": null,
   "metadata": {},
   "outputs": [],
   "source": []
  }
 ],
 "metadata": {
  "kernelspec": {
   "display_name": "Python 3",
   "language": "python",
   "name": "python3"
  },
  "language_info": {
   "codemirror_mode": {
    "name": "ipython",
    "version": 3
   },
   "file_extension": ".py",
   "mimetype": "text/x-python",
   "name": "python",
   "nbconvert_exporter": "python",
   "pygments_lexer": "ipython3",
   "version": "3.6.9"
  }
 },
 "nbformat": 4,
 "nbformat_minor": 4
}
